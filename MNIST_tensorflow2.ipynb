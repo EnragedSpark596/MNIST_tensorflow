{
 "cells": [
  {
   "cell_type": "code",
   "execution_count": null,
   "metadata": {},
   "outputs": [],
   "source": [
    "\"\"\"\n",
    "References:\n",
    "https://www.renom.jp/notebooks/tutorial/neuralnetwork/download_mnist/notebook.html\n",
    "https://www.udemy.com/data-science-and-machine-learning-with-python-hands-on/learn/lecture/8058990#questions/6261830\n",
    "https://www.easy-tensorflow.com/tf-tutorials/neural-networks/two-layer-neural-network?view=article&id=124:two-layer-neural-network\n",
    "https://github.com/nasirml/MachineLearningTensorFlow/blob/master/MultiLayerPerceptron/multi_layer_perceptron_mnist.py\n",
    "\n",
    "\"\"\""
   ]
  },
  {
   "cell_type": "code",
   "execution_count": 1,
   "metadata": {},
   "outputs": [
    {
     "name": "stderr",
     "output_type": "stream",
     "text": [
      "C:\\Users\\ianda\\AppData\\Local\\Continuum\\anaconda3\\lib\\site-packages\\h5py\\__init__.py:36: FutureWarning: Conversion of the second argument of issubdtype from `float` to `np.floating` is deprecated. In future, it will be treated as `np.float64 == np.dtype(float).type`.\n",
      "  from ._conv import register_converters as _register_converters\n"
     ]
    },
    {
     "name": "stdout",
     "output_type": "stream",
     "text": [
      "WARNING:tensorflow:From <ipython-input-1-5f1e1a8ae98f>:9: read_data_sets (from tensorflow.contrib.learn.python.learn.datasets.mnist) is deprecated and will be removed in a future version.\n",
      "Instructions for updating:\n",
      "Please use alternatives such as official/mnist/dataset.py from tensorflow/models.\n",
      "WARNING:tensorflow:From C:\\Users\\ianda\\AppData\\Local\\Continuum\\anaconda3\\lib\\site-packages\\tensorflow\\contrib\\learn\\python\\learn\\datasets\\mnist.py:260: maybe_download (from tensorflow.contrib.learn.python.learn.datasets.base) is deprecated and will be removed in a future version.\n",
      "Instructions for updating:\n",
      "Please write your own downloading logic.\n",
      "WARNING:tensorflow:From C:\\Users\\ianda\\AppData\\Local\\Continuum\\anaconda3\\lib\\site-packages\\tensorflow\\contrib\\learn\\python\\learn\\datasets\\mnist.py:262: extract_images (from tensorflow.contrib.learn.python.learn.datasets.mnist) is deprecated and will be removed in a future version.\n",
      "Instructions for updating:\n",
      "Please use tf.data to implement this functionality.\n",
      "Extracting MNIST_data/train-images-idx3-ubyte.gz\n",
      "WARNING:tensorflow:From C:\\Users\\ianda\\AppData\\Local\\Continuum\\anaconda3\\lib\\site-packages\\tensorflow\\contrib\\learn\\python\\learn\\datasets\\mnist.py:267: extract_labels (from tensorflow.contrib.learn.python.learn.datasets.mnist) is deprecated and will be removed in a future version.\n",
      "Instructions for updating:\n",
      "Please use tf.data to implement this functionality.\n",
      "Extracting MNIST_data/train-labels-idx1-ubyte.gz\n",
      "WARNING:tensorflow:From C:\\Users\\ianda\\AppData\\Local\\Continuum\\anaconda3\\lib\\site-packages\\tensorflow\\contrib\\learn\\python\\learn\\datasets\\mnist.py:110: dense_to_one_hot (from tensorflow.contrib.learn.python.learn.datasets.mnist) is deprecated and will be removed in a future version.\n",
      "Instructions for updating:\n",
      "Please use tf.one_hot on tensors.\n",
      "Extracting MNIST_data/t10k-images-idx3-ubyte.gz\n",
      "Extracting MNIST_data/t10k-labels-idx1-ubyte.gz\n",
      "WARNING:tensorflow:From C:\\Users\\ianda\\AppData\\Local\\Continuum\\anaconda3\\lib\\site-packages\\tensorflow\\contrib\\learn\\python\\learn\\datasets\\mnist.py:290: DataSet.__init__ (from tensorflow.contrib.learn.python.learn.datasets.mnist) is deprecated and will be removed in a future version.\n",
      "Instructions for updating:\n",
      "Please use alternatives such as official/mnist/dataset.py from tensorflow/models.\n"
     ]
    }
   ],
   "source": [
    "import tensorflow as tf\n",
    "import numpy as np\n",
    "import matplotlib.pyplot as plt\n",
    "\n",
    "%matplotlib inline\n",
    "\n",
    "from tensorflow.examples.tutorials.mnist import input_data\n",
    "\n",
    "mnist = input_data.read_data_sets(\"MNIST_data/\", one_hot=True)"
   ]
  },
  {
   "cell_type": "code",
   "execution_count": 2,
   "metadata": {},
   "outputs": [],
   "source": [
    "#%% create the MLP model\n",
    "\n",
    "def multi_layer_perceptron_mnist(x, weights, biases):\n",
    "    \"\"\"\n",
    "    MLP model with more than 2 hidden layers.\n",
    "    \"\"\"\n",
    "    hidden_layer1 = tf.add(tf.matmul(x, weights['w_h1']), biases['b_h1'])\n",
    "    hidden_layer1 = tf.nn.relu(hidden_layer1)   # apply ReLU non-linearity\n",
    "    hidden_layer2 = tf.add(tf.matmul(hidden_layer1, weights['w_h2']), biases['b_h2'])\n",
    "    hidden_layer2 = tf.nn.relu(hidden_layer2)\n",
    "\n",
    "    out_layer = tf.add(tf.matmul(hidden_layer2, weights['w_out']), biases['b_out'])  # NO non-linearity in the output layer\n",
    "\n",
    "    return out_layer"
   ]
  },
  {
   "cell_type": "code",
   "execution_count": 3,
   "metadata": {},
   "outputs": [],
   "source": [
    "#%% construct the mlp model\n",
    "\n",
    "# hyper-parameters\n",
    "learning_rate = 0.01\n",
    "num_iter = 30\n",
    "batch_size = 100\n",
    "display_step = 10       # display the avg cost after this number of epochs\n",
    "\n",
    "# variables\n",
    "num_input = 784         # units in the input layer 28x28 images\n",
    "num_hidden1 = 128       # units in the first hidden layer\n",
    "num_hidden2 = 256\n",
    "num_output = 10         # units in the output layer 0 to 9. OR nClasses\n",
    "\n",
    "# training_input data and labels\n",
    "x = tf.placeholder('float', [None, num_input])     # training data\n",
    "y = tf.placeholder('float', [None, num_output])    # labels\n",
    "\n",
    "# weights and biases\n",
    "weights = {\n",
    "    'w_h1' : tf.Variable(tf.random_normal([num_input, num_hidden1])),       # w1, from input layer to hidden layer 1\n",
    "    'w_h2' : tf.Variable(tf.random_normal([num_hidden1, num_hidden2])),     # w2, from hidden layer 1 to hidden layer 2\n",
    "    'w_out': tf.Variable(tf.random_normal([num_hidden2, num_output]))       # w3, from hidden layer 2 to output layer\n",
    "}\n",
    "biases = {\n",
    "    'b_h1' : tf.Variable(tf.random_normal([num_hidden1])),                  # b1, to hidden layer 1 units\n",
    "    'b_h2' : tf.Variable(tf.random_normal([num_hidden2])),\n",
    "    'b_out': tf.Variable(tf.random_normal([num_output]))\n",
    "}\n",
    "\n",
    "# construct the model\n",
    "model = multi_layer_perceptron_mnist(x, weights, biases)\n",
    "\n",
    "# cost function and optimization\n",
    "loss_func = tf.reduce_mean(tf.nn.softmax_cross_entropy_with_logits_v2(logits=model, labels=y))\n",
    "optimizer = tf.train.AdamOptimizer(learning_rate=learning_rate).minimize(loss_func)"
   ]
  },
  {
   "cell_type": "code",
   "execution_count": 4,
   "metadata": {},
   "outputs": [
    {
     "name": "stdout",
     "output_type": "stream",
     "text": [
      "WARNING:tensorflow:From <ipython-input-4-04e236f91fd1>:20: arg_max (from tensorflow.python.ops.gen_math_ops) is deprecated and will be removed in a future version.\n",
      "Instructions for updating:\n",
      "Use `argmax` instead\n",
      "Epoch: 0001 cost= 34.31067 accuracy: 0.91370\n",
      "Epoch: 0011 cost= 1.11204 accuracy: 0.95840\n",
      "Epoch: 0021 cost= 0.35685 accuracy: 0.96200\n",
      "Optimization done...\n"
     ]
    }
   ],
   "source": [
    "#%% Train and test\n",
    "\n",
    "sess = tf.Session()\n",
    "init = tf.global_variables_initializer()\n",
    "sess.run(init)\n",
    "\n",
    "cost_all = np.array([])\n",
    "acc_all = np.array([])\n",
    "\n",
    "# Train the model\n",
    "for iter in range(num_iter):\n",
    "    avg_cost = 0.0\n",
    "    num_batch = int(mnist.train.num_examples / batch_size)   # total number of batches\n",
    "    for nB in range(num_batch):\n",
    "        trainData, trainLabels = mnist.train.next_batch(batch_size=batch_size)\n",
    "        tmp_cost, _ = sess.run([loss_func, optimizer], feed_dict={x: trainData, y: trainLabels})\n",
    "\n",
    "        avg_cost = avg_cost + tmp_cost / num_batch\n",
    "\n",
    "    correct_pred = tf.equal(tf.arg_max(model, 1), tf.arg_max(y, 1))\n",
    "    accuracy = tf.reduce_mean(tf.cast(correct_pred, 'float'))\n",
    "    acc = accuracy.eval(session=sess, feed_dict={x: mnist.test.images, y: mnist.test.labels})\n",
    "\n",
    "    if iter % display_step == 0:\n",
    "        print('Epoch: %04d' %(iter+1), 'cost= ' + \"{:.5f}\".format(avg_cost), 'accuracy: ' + \"{:.5f}\".format(acc))\n",
    "    cost_all = np.append(cost_all, avg_cost)\n",
    "    acc_all = np.append(acc_all, acc)\n",
    "    \n",
    "print('Optimization done...')"
   ]
  },
  {
   "cell_type": "code",
   "execution_count": 5,
   "metadata": {},
   "outputs": [
    {
     "data": {
      "image/png": "[encoded data removed]",
      "text/plain": [
       "<Figure size 432x288 with 1 Axes>"
      ]
     },
     "metadata": {},
     "output_type": "display_data"
    },
    {
     "data": {
      "image/png": "[encoded data removed]",
      "text/plain": [
       "<Figure size 432x288 with 1 Axes>"
      ]
     },
     "metadata": {},
     "output_type": "display_data"
    }
   ],
   "source": [
    "# plot the accuracy and loss\n",
    "x_data = range(num_iter)\n",
    "plt.plot(x_data, cost_all, color='r')\n",
    "plt.xticks([0, 10, 20, 30]); plt.yticks([0, 10, 20, 30, 40])\n",
    "plt.show()\n",
    "\n",
    "plt.plot(x_data, acc_all)\n",
    "plt.xticks([0, 10, 20, 30]); plt.yticks([0.9, 0.95, 1.0])\n",
    "plt.show()\n",
    "\n",
    "#sess.close()\n",
    "\n",
    "#%%"
   ]
  },
  {
   "cell_type": "code",
   "execution_count": null,
   "metadata": {},
   "outputs": [],
   "source": [
    "# round 2"
   ]
  },
  {
   "cell_type": "code",
   "execution_count": 6,
   "metadata": {},
   "outputs": [],
   "source": [
    "#%% construct the mlp model\n",
    "\n",
    "# hyper-parameters\n",
    "learning_rate = 0.01\n",
    "num_iter = 50\n",
    "batch_size = 100\n",
    "display_step = 10       # display the avg cost after this number of epochs\n",
    "\n",
    "# variables\n",
    "num_input = 784         # units in the input layer 28x28 images\n",
    "num_hidden1 = 320       # units in the first hidden layer\n",
    "num_hidden2 = 128\n",
    "num_output = 10         # units in the output layer 0 to 9. OR nClasses\n",
    "\n",
    "# trainum_inputg data and labels\n",
    "x = tf.placeholder('float', [None, num_input])     # training data\n",
    "y = tf.placeholder('float', [None, num_output])    # labels\n",
    "\n",
    "# weights and biases\n",
    "weights = {\n",
    "    'w_h1' : tf.Variable(tf.random_normal([num_input, num_hidden1])),       # w1, from input layer to hidden layer 1\n",
    "    'w_h2' : tf.Variable(tf.random_normal([num_hidden1, num_hidden2])),     # w2, from hidden layer 1 to hidden layer 2\n",
    "    'w_out': tf.Variable(tf.random_normal([num_hidden2, num_output]))       # w3, from hidden layer 2 to output layer\n",
    "}\n",
    "biases = {\n",
    "    'b_h1' : tf.Variable(tf.random_normal([num_hidden1])),                  # b1, to hidden layer 1 units\n",
    "    'b_h2' : tf.Variable(tf.random_normal([num_hidden2])),\n",
    "    'b_out': tf.Variable(tf.random_normal([num_output]))\n",
    "}\n",
    "\n",
    "# construct the model\n",
    "model = multi_layer_perceptron_mnist(x, weights, biases)\n",
    "\n",
    "# cost function and optimization\n",
    "loss_func = tf.reduce_mean(tf.nn.softmax_cross_entropy_with_logits_v2(logits=model, labels=y))\n",
    "optimizer = tf.train.AdamOptimizer(learning_rate=learning_rate).minimize(loss_func)"
   ]
  },
  {
   "cell_type": "code",
   "execution_count": 7,
   "metadata": {},
   "outputs": [
    {
     "name": "stdout",
     "output_type": "stream",
     "text": [
      "Epoch: 0001 cost= 37.38595 accuracy: 0.90720\n",
      "Epoch: 0011 cost= 0.22138 accuracy: 0.93930\n",
      "Epoch: 0021 cost= 0.12372 accuracy: 0.96260\n",
      "Epoch: 0031 cost= 0.10148 accuracy: 0.96340\n",
      "Epoch: 0041 cost= 0.09274 accuracy: 0.96400\n",
      "Optimization done...\n"
     ]
    }
   ],
   "source": [
    "#%% Train and test\n",
    "\n",
    "sess = tf.Session()\n",
    "init = tf.global_variables_initializer()\n",
    "sess.run(init)\n",
    "\n",
    "cost_all = np.array([])\n",
    "acc_all = np.array([])\n",
    "\n",
    "# Train the model\n",
    "for iter in range(num_iter):\n",
    "    avg_cost = 0.0\n",
    "    num_batch = int(mnist.train.num_examples / batch_size)   # total number of batches\n",
    "    for nB in range(num_batch):\n",
    "        trainData, trainLabels = mnist.train.next_batch(batch_size=batch_size)\n",
    "        tmp_cost, _ = sess.run([loss_func, optimizer], feed_dict={x: trainData, y: trainLabels})\n",
    "\n",
    "        avg_cost = avg_cost + tmp_cost / num_batch\n",
    "\n",
    "    correct_pred = tf.equal(tf.arg_max(model, 1), tf.arg_max(y, 1))\n",
    "    accuracy = tf.reduce_mean(tf.cast(correct_pred, 'float'))\n",
    "    acc = accuracy.eval(session=sess, feed_dict={x: mnist.test.images, y: mnist.test.labels})\n",
    "\n",
    "    if iter % display_step == 0:\n",
    "        print('Epoch: %04d' %(iter+1), 'cost= ' + \"{:.5f}\".format(avg_cost), 'accuracy: ' + \"{:.5f}\".format(acc))\n",
    "    cost_all = np.append(cost_all, avg_cost)\n",
    "    acc_all = np.append(acc_all, acc)\n",
    "    \n",
    "print('Optimization done...')"
   ]
  },
  {
   "cell_type": "code",
   "execution_count": 8,
   "metadata": {},
   "outputs": [
    {
     "data": {
      "image/png": "[encoded data removed]",
      "text/plain": [
       "<Figure size 432x288 with 1 Axes>"
      ]
     },
     "metadata": {},
     "output_type": "display_data"
    },
    {
     "data": {
      "image/png": "[encoded data removed]",
      "text/plain": [
       "<Figure size 432x288 with 1 Axes>"
      ]
     },
     "metadata": {},
     "output_type": "display_data"
    }
   ],
   "source": [
    "# plot the accuracy and loss\n",
    "x_data = range(num_iter)\n",
    "plt.plot(x_data, cost_all, color='r')\n",
    "plt.xticks([0, 10, 20, 30, 40, 50]); plt.yticks([0, 10, 20, 30, 40])\n",
    "plt.show()\n",
    "\n",
    "plt.plot(x_data, acc_all)\n",
    "plt.xticks([0, 10, 20, 30, 40, 50]); plt.yticks([0.9, 0.95, 1.0])\n",
    "plt.show()\n",
    "\n",
    "#sess.close()\n",
    "\n",
    "#%%"
   ]
  },
  {
   "cell_type": "code",
   "execution_count": null,
   "metadata": {},
   "outputs": [],
   "source": [
    "\"\"\"\n",
    "Results:\n",
    "\n",
    "Round 1\n",
    "learning_rate = 0.01\n",
    "num_iter = 30\n",
    "\n",
    "num_input = 784\n",
    "num_hidden1 = 128\n",
    "num_hidden2 = 256\n",
    "num_output = 10 \n",
    "\n",
    "Epoch: 0021 cost= 0.32787 accuracy: 0.95280\n",
    "\n",
    "Round 2\n",
    "learning_rate = 0.01\n",
    "num_iter = 30\n",
    "\n",
    "# variables\n",
    "num_input = 784\n",
    "num_hidden1 = 256\n",
    "num_hidden2 = 128\n",
    "num_output = 10 \n",
    "\n",
    "Epoch: 0021 cost= 0.15171 accuracy: 0.94160\n",
    "\n",
    "Round 3\n",
    "learning_rate = 0.01\n",
    "num_iter = 30\n",
    "\n",
    "# variables\n",
    "num_input = 784\n",
    "num_hidden1 = 256\n",
    "num_hidden2 = 256\n",
    "num_output = 10 \n",
    "\n",
    "Epoch: 0021 cost= 0.44563 accuracy: 0.95130\n",
    "\n",
    "Round 4\n",
    "learning_rate = 0.01\n",
    "num_iter = 30\n",
    "\n",
    "# variables\n",
    "num_input = 784\n",
    "num_hidden1 = 320\n",
    "num_hidden2 = 128\n",
    "num_output = 10 \n",
    "\n",
    "Epoch: 0021 cost= 0.14652 accuracy: 0.95260\n",
    "\n",
    "Round 5\n",
    "learning_rate = 0.01\n",
    "num_iter = 50\n",
    "\n",
    "# variables\n",
    "num_input = 784\n",
    "num_hidden1 = 320\n",
    "num_hidden2 = 128\n",
    "num_output = 10 \n",
    "\n",
    "Epoch: 0041 cost= 0.07354 accuracy: 0.96480\n",
    "\n",
    "\"\"\""
   ]
  },
  {
   "cell_type": "code",
   "execution_count": null,
   "metadata": {},
   "outputs": [],
   "source": [
    "# add a third layer"
   ]
  },
  {
   "cell_type": "code",
   "execution_count": 9,
   "metadata": {},
   "outputs": [],
   "source": [
    "#%% create the MLP model\n",
    "\n",
    "def multi_layer_perceptron_mnist(x, weights, biases):\n",
    "    \"\"\"\n",
    "    MLP model with more than 2 hidden layers.\n",
    "    \"\"\"\n",
    "    hidden_layer1 = tf.add(tf.matmul(x, weights['w_h1']), biases['b_h1'])\n",
    "    hidden_layer1 = tf.nn.relu(hidden_layer1)   # apply ReLU non-linearity\n",
    "    hidden_layer2 = tf.add(tf.matmul(hidden_layer1, weights['w_h2']), biases['b_h2'])\n",
    "    hidden_layer2 = tf.nn.relu(hidden_layer2)\n",
    "    hidden_layer3 = tf.add(tf.matmul(hidden_layer2, weights['w_h3']), biases['b_h3'])\n",
    "    hidden_layer3 = tf.nn.relu(hidden_layer3)\n",
    "\n",
    "    out_layer = tf.add(tf.matmul(hidden_layer3, weights['w_out']), biases['b_out'])  # NO non-linearity in the output layer\n",
    "\n",
    "    return out_layer"
   ]
  },
  {
   "cell_type": "code",
   "execution_count": 15,
   "metadata": {},
   "outputs": [],
   "source": [
    "#%% construct the mlp model\n",
    "\n",
    "# hyper-parameters\n",
    "learning_rate = 0.01\n",
    "num_iter = 50\n",
    "batch_size = 100\n",
    "display_step = 10       # display the avg cost after this number of epochs\n",
    "\n",
    "# variables\n",
    "num_input = 784         # units in the input layer 28x28 images\n",
    "num_hidden1 = 256       # units in the first hidden layer\n",
    "num_hidden2 = 128\n",
    "num_hidden3 = 64\n",
    "num_output = 10         # units in the output layer 0 to 9. OR nClasses\n",
    "\n",
    "# trainum_inputg data and labels\n",
    "x = tf.placeholder('float', [None, num_input])     # training data\n",
    "y = tf.placeholder('float', [None, num_output])    # labels\n",
    "\n",
    "# weights and biases\n",
    "weights = {\n",
    "    'w_h1' : tf.Variable(tf.random_normal([num_input, num_hidden1])),       # w1, from input layer to hidden layer 1\n",
    "    'w_h2' : tf.Variable(tf.random_normal([num_hidden1, num_hidden2])),     # w2, from hidden layer 1 to hidden layer 2\n",
    "    'w_h3' : tf.Variable(tf.random_normal([num_hidden2, num_hidden3])),     # w2, from hidden layer 1 to hidden layer 2\n",
    "    'w_out': tf.Variable(tf.random_normal([num_hidden3, num_output]))       # w3, from hidden layer 2 to output layer\n",
    "}\n",
    "biases = {\n",
    "    'b_h1' : tf.Variable(tf.random_normal([num_hidden1])),                  # b1, to hidden layer 1 units\n",
    "    'b_h2' : tf.Variable(tf.random_normal([num_hidden2])),\n",
    "    'b_h3' : tf.Variable(tf.random_normal([num_hidden3])),\n",
    "    'b_out': tf.Variable(tf.random_normal([num_output]))\n",
    "}\n",
    "\n",
    "# construct the model\n",
    "model = multi_layer_perceptron_mnist(x, weights, biases)\n",
    "\n",
    "# cost function and optimization\n",
    "loss_func = tf.reduce_mean(tf.nn.softmax_cross_entropy_with_logits_v2(logits=model, labels=y))\n",
    "optimizer = tf.train.AdamOptimizer(learning_rate=learning_rate).minimize(loss_func)"
   ]
  },
  {
   "cell_type": "code",
   "execution_count": 16,
   "metadata": {},
   "outputs": [
    {
     "name": "stdout",
     "output_type": "stream",
     "text": [
      "Epoch: 0001 cost= 112.43217 accuracy: 0.90140\n",
      "Epoch: 0011 cost= 0.37934 accuracy: 0.94050\n",
      "Epoch: 0021 cost= 0.17337 accuracy: 0.94150\n",
      "Epoch: 0031 cost= 0.16361 accuracy: 0.94020\n",
      "Epoch: 0041 cost= 0.24896 accuracy: 0.88920\n",
      "Optimization done...\n"
     ]
    }
   ],
   "source": [
    "#%% Train and test\n",
    "\n",
    "sess = tf.Session()\n",
    "init = tf.global_variables_initializer()\n",
    "sess.run(init)\n",
    "\n",
    "cost_all = np.array([])\n",
    "acc_all = np.array([])\n",
    "\n",
    "# Train the model\n",
    "for iter in range(num_iter):\n",
    "    avg_cost = 0.0\n",
    "    num_batch = int(mnist.train.num_examples / batch_size)   # total number of batches\n",
    "    for nB in range(num_batch):\n",
    "        trainData, trainLabels = mnist.train.next_batch(batch_size=batch_size)\n",
    "        tmp_cost, _ = sess.run([loss_func, optimizer], feed_dict={x: trainData, y: trainLabels})\n",
    "\n",
    "        avg_cost = avg_cost + tmp_cost / num_batch\n",
    "\n",
    "    correct_pred = tf.equal(tf.arg_max(model, 1), tf.arg_max(y, 1))\n",
    "    accuracy = tf.reduce_mean(tf.cast(correct_pred, 'float'))\n",
    "    acc = accuracy.eval(session=sess, feed_dict={x: mnist.test.images, y: mnist.test.labels})\n",
    "\n",
    "    if iter % display_step == 0:\n",
    "        print('Epoch: %04d' %(iter+1), 'cost= ' + \"{:.5f}\".format(avg_cost), 'accuracy: ' + \"{:.5f}\".format(acc))\n",
    "    cost_all = np.append(cost_all, avg_cost)\n",
    "    acc_all = np.append(acc_all, acc)\n",
    "    \n",
    "print('Optimization done...')"
   ]
  },
  {
   "cell_type": "code",
   "execution_count": 17,
   "metadata": {},
   "outputs": [
    {
     "data": {
      "image/png": "[encoded data removed]",
      "text/plain": [
       "<Figure size 432x288 with 1 Axes>"
      ]
     },
     "metadata": {},
     "output_type": "display_data"
    },
    {
     "data": {
      "image/png": "[encoded data removed]",
      "text/plain": [
       "<Figure size 432x288 with 1 Axes>"
      ]
     },
     "metadata": {},
     "output_type": "display_data"
    }
   ],
   "source": [
    "# plot the accuracy and loss\n",
    "x_data = range(num_iter)\n",
    "plt.plot(x_data, cost_all, color='r')\n",
    "plt.xticks([0, 10, 20, 30, 40, 50]); plt.yticks([0, 10, 20, 30, 40])\n",
    "plt.show()\n",
    "\n",
    "plt.plot(x_data, acc_all)\n",
    "plt.xticks([0, 10, 20, 30, 40, 50]); plt.yticks([0.9, 0.95, 1.0])\n",
    "plt.show()\n",
    "\n",
    "#sess.close()\n",
    "\n",
    "#%%"
   ]
  },
  {
   "cell_type": "code",
   "execution_count": null,
   "metadata": {},
   "outputs": [],
   "source": []
  }
 ],
 "metadata": {
  "kernelspec": {
   "display_name": "Python 3",
   "language": "python",
   "name": "python3"
  },
  "language_info": {
   "codemirror_mode": {
    "name": "ipython",
    "version": 3
   },
   "file_extension": ".py",
   "mimetype": "text/x-python",
   "name": "python",
   "nbconvert_exporter": "python",
   "pygments_lexer": "ipython3",
   "version": "3.6.5"
  }
 },
 "nbformat": 4,
 "nbformat_minor": 2
}
